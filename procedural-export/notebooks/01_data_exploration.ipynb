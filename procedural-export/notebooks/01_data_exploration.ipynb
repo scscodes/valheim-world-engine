{
 "cells": [
  {
   "cell_type": "markdown",
   "metadata": {},
   "source": [
    "# 01 - Data Exploration\n",
    "\n",
    "**Purpose:** Load and explore sample data from Valheim WorldGenerator\n",
    "\n",
    "**Scope:**\n",
    "- Load sample JSON file\n",
    "- Display basic statistics\n",
    "- Visualize raw biome distribution\n",
    "- Analyze height distribution\n",
    "- Create spatial overview maps\n",
    "\n",
    "**Prerequisites:**\n",
    "- Sample data file: `../output/samples/*-samples-1024.json`\n",
    "\n",
    "**Outputs:**\n",
    "- Summary statistics\n",
    "- Raw biome distribution pie chart\n",
    "- Height histogram\n",
    "- Spatial heatmap\n",
    "\n",
    "**Estimated Time:** 5 minutes"
   ]
  },
  {
   "cell_type": "markdown",
   "metadata": {},
   "source": [
    "## Setup"
   ]
  },
  {
   "cell_type": "code",
   "execution_count": null,
   "metadata": {},
   "outputs": [],
   "source": [
    "# Standard imports\n",
    "import sys\n",
    "sys.path.append('.')  # Ensure local imports work\n",
    "\n",
    "import numpy as np\n",
    "import pandas as pd\n",
    "import matplotlib.pyplot as plt\n",
    "import seaborn as sns\n",
    "from pathlib import Path\n",
    "\n",
    "# Local utilities\n",
    "from biome_utils import *\n",
    "from config import *\n",
    "\n",
    "# Jupyter display settings\n",
    "%matplotlib inline\n",
    "%config InlineBackend.figure_format = 'retina'\n",
    "plt.rcParams['figure.figsize'] = (12, 8)\n",
    "plt.rcParams['font.size'] = 11\n",
    "\n",
    "print(\"✓ Setup complete\")"
   ]
  },
  {
   "cell_type": "markdown",
   "metadata": {},
   "source": [
    "## Load Data"
   ]
  },
  {
   "cell_type": "code",
   "execution_count": null,
   "metadata": {},
   "outputs": [],
   "source": [
    "# Update this path to your sample file\n",
    "SAMPLE_PATH = '../output/samples/hkLycKKCMI-samples-1024.json'\n",
    "\n",
    "# Alternative: Use file picker\n",
    "# sample_files = list(Path('../output/samples/').glob('*-samples-1024.json'))\n",
    "# if sample_files:\n",
    "#     SAMPLE_PATH = str(sample_files[0])\n",
    "#     print(f\"Auto-selected: {SAMPLE_PATH}\")\n",
    "\n",
    "# Load samples\n",
    "df = load_samples(SAMPLE_PATH)\n",
    "\n",
    "# Display first few rows\n",
    "df.head()"
   ]
  },
  {
   "cell_type": "markdown",
   "metadata": {},
   "source": [
    "## Summary Statistics"
   ]
  },
  {
   "cell_type": "code",
   "execution_count": null,
   "metadata": {},
   "outputs": [],
   "source": [
    "# Print comprehensive summary\n",
    "print_summary_stats(df)"
   ]
  },
  {
   "cell_type": "code",
   "execution_count": null,
   "metadata": {},
   "outputs": [],
   "source": [
    "# DataFrame info\n",
    "print(\"DataFrame Info:\")\n",
    "print(df.info())\n",
    "\n",
    "print(\"\\nDescriptive Statistics:\")\n",
    "print(df.describe())"
   ]
  },
  {
   "cell_type": "markdown",
   "metadata": {},
   "source": [
    "## Biome Distribution"
   ]
  },
  {
   "cell_type": "code",
   "execution_count": null,
   "metadata": {},
   "outputs": [],
   "source": [
    "# Raw biome distribution (pie chart)\n",
    "fig = plot_biome_distribution(df, \"Raw API Data - Biome Distribution\")\n",
    "plt.show()"
   ]
  },
  {
   "cell_type": "code",
   "execution_count": null,
   "metadata": {},
   "outputs": [],
   "source": [
    "# Detailed statistics table\n",
    "stats = calculate_biome_distribution(df)\n",
    "\n",
    "stats_df = pd.DataFrame(stats).T\n",
    "stats_df = stats_df.sort_values('percentage', ascending=False)\n",
    "print(\"\\nBiome Distribution Table:\")\n",
    "print(stats_df[['count', 'percentage']].to_string())"
   ]
  },
  {
   "cell_type": "markdown",
   "metadata": {},
   "source": [
    "## Height Distribution"
   ]
  },
  {
   "cell_type": "code",
   "execution_count": null,
   "metadata": {},
   "outputs": [],
   "source": [
    "# Height histogram\n",
    "fig = plot_height_histogram(df, bins=100)\n",
    "plt.show()"
   ]
  },
  {
   "cell_type": "code",
   "execution_count": null,
   "metadata": {},
   "outputs": [],
   "source": [
    "# Height statistics by zone\n",
    "print(\"Height Statistics:\")\n",
    "print(f\"  Min: {df['Height'].min():.1f}m\")\n",
    "print(f\"  Max: {df['Height'].max():.1f}m\")\n",
    "print(f\"  Mean: {df['Height'].mean():.1f}m\")\n",
    "print(f\"  Median: {df['Height'].median():.1f}m\")\n",
    "\n",
    "print(f\"\\nSamples below sea level ({SEA_LEVEL_METERS}m): {(df['Height'] < SEA_LEVEL_METERS).sum():,} ({(df['Height'] < SEA_LEVEL_METERS).sum() / len(df) * 100:.1f}%)\")\n",
    "print(f\"Samples above sea level: {(df['Height'] >= SEA_LEVEL_METERS).sum():,} ({(df['Height'] >= SEA_LEVEL_METERS).sum() / len(df) * 100:.1f}%)\")"
   ]
  },
  {
   "cell_type": "markdown",
   "metadata": {},
   "source": [
    "## Spatial Overview"
   ]
  },
  {
   "cell_type": "code",
   "execution_count": null,
   "metadata": {},
   "outputs": [],
   "source": [
    "# All biomes spatial heatmap\n",
    "fig = plot_spatial_heatmap(df, title=\"All Biomes - Spatial Distribution\")\n",
    "plt.show()"
   ]
  },
  {
   "cell_type": "markdown",
   "metadata": {},
   "source": [
    "## Distance Ring Analysis"
   ]
  },
  {
   "cell_type": "code",
   "execution_count": null,
   "metadata": {},
   "outputs": [],
   "source": [
    "# Analyze biome distribution by distance rings\n",
    "fig = plot_distance_rings(df)\n",
    "plt.show()"
   ]
  },
  {
   "cell_type": "code",
   "execution_count": null,
   "metadata": {},
   "outputs": [],
   "source": [
    "# Detailed ring statistics\n",
    "ring_stats = analyze_by_distance_ring(df)\n",
    "\n",
    "for label, stats in ring_stats.items():\n",
    "    print(f\"\\n{label}: {stats['total']:,} samples\")\n",
    "    print(\"-\" * 50)\n",
    "    for biome, data in sorted(stats['biomes'].items(), key=lambda x: x[1]['percentage'], reverse=True):\n",
    "        print(f\"  {biome:<15} {data['count']:>8,} ({data['percentage']:>5.1f}%)\")"
   ]
  },
  {
   "cell_type": "markdown",
   "metadata": {},
   "source": [
    "## Key Findings\n",
    "\n",
    "**Based on raw API data analysis:**\n",
    "\n",
    "1. **Polar Biome Over-representation:**\n",
    "   - DeepNorth: ~31% of world\n",
    "   - Ashlands: ~15% of world\n",
    "   - Combined: ~46% of world (expected: ~15-20%)\n",
    "\n",
    "2. **Mistlands Starvation:**\n",
    "   - Only ~5.5% of world\n",
    "   - Expected: 25-30% (outer ring biome)\n",
    "   - Problem: Checked AFTER polar biomes in GetBiome()\n",
    "\n",
    "3. **Outer Ring Analysis (6-10km):**\n",
    "   - Ashlands dominates (43.9%)\n",
    "   - DeepNorth second (28.9%)\n",
    "   - Mistlands nearly absent (0.0%)\n",
    "   - This is where filters will have most impact\n",
    "\n",
    "**Next Steps:**\n",
    "- Notebook 02: Tune sea level threshold\n",
    "- Notebook 03: Apply polar biome filters\n",
    "- Notebook 05: Compare filter strategies"
   ]
  }
 ],
 "metadata": {
  "kernelspec": {
   "display_name": "Python 3",
   "language": "python",
   "name": "python3"
  },
  "language_info": {
   "codemirror_mode": {
    "name": "ipython",
    "version": 3
   },
   "file_extension": ".py",
   "mimetype": "text/x-python",
   "name": "python",
   "nbconvert_exporter": "python",
   "pygments_lexer": "ipython3",
   "version": "3.8.0"
  }
 },
 "nbformat": 4,
 "nbformat_minor": 4
}
